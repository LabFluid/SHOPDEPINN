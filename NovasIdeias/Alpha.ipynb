{
 "cells": [
  {
   "cell_type": "markdown",
   "id": "f09a0a9b",
   "metadata": {},
   "source": [
    "$\\begin{align}\n",
    "\t&u_t + c(x)u_x = 0, \\text{ em } [0,5] \\times [0,6.4], \\\\\n",
    "\t&u(x,0) = f(x), \\\\~\\\\\n",
    "\t&c(x) = 1/5+\\sin(x-1)^2, \\\\\n",
    "\t&f(x) = e^{-100(x-1)^2}\n",
    "\\end{align}$"
   ]
  },
  {
   "cell_type": "code",
   "execution_count": 1,
   "id": "7a581552",
   "metadata": {},
   "outputs": [
    {
     "name": "stderr",
     "output_type": "stream",
     "text": [
      "\u001b[32m\u001b[1m  Activating\u001b[22m\u001b[39m new project at `c:\\Users\\gozan\\.vscode\\Julia\\SHOPDEPINN\\Poster`\n"
     ]
    }
   ],
   "source": [
    "using Pkg; Pkg.activate(\".\")"
   ]
  },
  {
   "cell_type": "code",
   "execution_count": 2,
   "id": "b79c9918",
   "metadata": {},
   "outputs": [],
   "source": [
    "using JLD; D = load(\"Upwind_Dados_grad.jld\")[\"D\"]; xt_D = D[1]; u_D = D[2];"
   ]
  },
  {
   "cell_type": "code",
   "execution_count": 3,
   "id": "b728a17e",
   "metadata": {},
   "outputs": [],
   "source": [
    "using NeuralPDE, Lux, Random, Optimization, OptimizationOptimisers, ModelingToolkit, Zygote, Plots\n",
    "import ModelingToolkit: Interval\n",
    "import Optimization: OptimizationFunction, OptimizationProblem, solve\n",
    "Random.seed!(0);"
   ]
  },
  {
   "cell_type": "code",
   "execution_count": 4,
   "id": "4ec33506",
   "metadata": {},
   "outputs": [],
   "source": [
    "xmin = 0; xmax = 5; tmin = 0; tmax = 6.4\n",
    "c(x) = 1/5+sin(x-1)^2\n",
    "f(x) = exp(-100(x-1)^2)\n",
    "aux(x,t) = ((t-2.0491*x) <= 1.4279) * ((t-2.0194*x) >= -4.9414)\n",
    "u_exata(x,t) = exp(-100*(atan((1/sqrt(6))*tan(atan(sqrt(6)*tan(x-1))-(sqrt(6)/5)*t)))^2);"
   ]
  },
  {
   "cell_type": "code",
   "execution_count": 5,
   "id": "a10bdf97",
   "metadata": {},
   "outputs": [],
   "source": [
    "Neurons = 10\n",
    "Layers = 10\n",
    "\n",
    "N_D = length(u_D)\n",
    "N_I = 10000;"
   ]
  },
  {
   "cell_type": "code",
   "execution_count": 6,
   "id": "7d3f4a25",
   "metadata": {},
   "outputs": [],
   "source": [
    "@parameters x t\n",
    "@variables u(..)\n",
    "Dt = Differential(t)\n",
    "Dx = Differential(x)\n",
    "\n",
    "PDE = [Dt(u(x,t)) + c(x)*Dx(u(x,t)) ~ 0]\n",
    "IC = [u(x, 0) ~ f(x)]\n",
    "\n",
    "Ω = [x ∈ Interval(xmin, xmax), t ∈ Interval(tmin, tmax)];"
   ]
  },
  {
   "cell_type": "code",
   "execution_count": 7,
   "id": "67fff91f",
   "metadata": {},
   "outputs": [],
   "source": [
    "Lux_NN = Chain(    \n",
    "\tDense(2, Neurons, Lux.tanh; \n",
    "\tinit_weight = Lux.glorot_uniform, init_bias = Lux.glorot_uniform),\n",
    "\n",
    "    [Dense(Neurons, Neurons, Lux.tanh; \n",
    "\tinit_weight = Lux.glorot_uniform, init_bias = Lux.glorot_uniform) for i in 1:1:Layers],\n",
    "\n",
    "    Dense(Neurons, 1; \n",
    "\tinit_weight = Lux.glorot_uniform, init_bias = Lux.glorot_uniform))\n",
    "\n",
    "global Weight_NN = Lux.setup(Random.default_rng(0), Lux_NN)[1];"
   ]
  },
  {
   "cell_type": "code",
   "execution_count": 8,
   "id": "f2ca39e1",
   "metadata": {},
   "outputs": [
    {
     "data": {
      "text/plain": [
       "(layer_1 = (weight = Float32[-0.6242165 0.56866914; -0.06330246 0.34922996; … ; -0.12525141 -0.093905956; -0.66517866 -0.21002297], bias = Float32[-0.0018067957, -0.4530393, 0.015580686, -0.5657447, -0.022980606, 0.5904931, 0.50905037, -0.11385763, 0.26840803, 0.3065478]), layer_2 = (weight = Float32[-0.5390303 0.13309713 … -0.53860843 -0.11768463; 0.060665477 -0.47446844 … 0.14195466 0.5241026; … ; 0.31228718 -0.34948128 … 0.54523396 0.11909132; 0.057770226 0.4409726 … 0.54192674 -0.31188104], bias = Float32[0.2792484, -0.17788953, 0.27264956, 0.11400413, 0.39570895, -0.322335, -0.34576032, 0.57750577, 0.30966, -0.5446188]), layer_3 = (weight = Float32[0.4736508 0.49099267 … -0.40226284 -0.2854084; 0.43182105 -0.11188734 … 0.035120655 -0.20693141; … ; 0.33726773 -0.53570324 … -0.54288644 0.16469675; -0.09623078 0.34622863 … 0.16912457 -0.36864647], bias = Float32[0.004465661, -0.29033548, -0.034027662, -0.29969162, -0.5889008, -0.33802646, 0.07544662, 0.2938569, -0.6518905, -0.6506386]), layer_4 = (weight = Float32[0.48927662 0.31400445 … -0.2920978 -0.3027774; 0.08980217 -0.26939017 … -0.3214532 0.1544292; … ; 0.41077822 0.11909008 … 0.34899062 0.10702088; -0.27824107 -0.31928912 … 0.07520813 -0.49440107], bias = Float32[0.23527867, -0.09080403, 0.29338, -0.6279395, -0.16823485, 0.48906735, -0.4045856, -0.19035397, -0.7098715, -0.7237943]), layer_5 = (weight = Float32[-0.10381927 -0.052112274 … -0.4689966 0.39039832; 0.1200273 -0.21846311 … 0.038525652 0.35614014; … ; -0.07400777 -0.037248574 … 0.028186994 -0.4433197; -0.20218803 -0.44468272 … -0.28382608 0.36646193], bias = Float32[-0.57744056, -0.39505094, -0.55008936, -0.41448644, 0.13489611, 0.024508927, 0.40978342, 0.22776851, -0.5786593, 0.26359206]), layer_6 = (weight = Float32[0.48001832 -0.25444937 … -0.539111 -0.097381644; 0.03494952 -0.21193722 … -0.17531435 0.23213644; … ; 0.12733176 -0.36218742 … 0.095280044 -0.017233402; 0.14261262 0.54289585 … -0.124430574 0.0554905], bias = Float32[-0.14034802, -0.51442903, 0.5561454, -0.17877267, -0.30158758, -0.32171044, 0.22578546, -0.30983448, -0.5234069, 0.23807716]), layer_7 = (weight = Float32[0.05572471 -0.1756149 … 0.045983553 0.10754577; -0.20959376 -0.077094786 … -0.109973714 -0.16130978; … ; 0.1600423 0.1316574 … 0.2077709 -0.20749483; 0.07935643 -0.25992012 … -0.022559728 0.100599185], bias = Float32[-0.61372954, -0.67393905, 0.4803232, 0.6212032, -0.65708727, -0.14046204, 0.56170833, 0.4356769, -0.5638252, 0.21428499]), layer_8 = (weight = Float32[-0.18713216 -0.46735945 … 0.105607204 -0.10207162; -0.49792567 0.46442667 … -0.31870964 -0.13799526; … ; -0.19257152 -0.3251028 … -0.02853416 0.06596053; -0.3663952 0.39277488 … -0.04076888 -0.22548218], bias = Float32[-0.079192184, -0.45186552, -0.62660056, -0.6107077, -0.27822602, -0.32761356, 0.3959995, -0.09803685, 0.24651378, 0.6630944]), layer_9 = (weight = Float32[-0.51166266 0.21751225 … 0.2641759 0.069379106; 0.38683733 -0.08714648 … -0.22963943 0.09109825; … ; 0.16007553 0.37342146 … 0.2941328 -0.1256801; -0.3819765 0.17153248 … -0.4370205 0.21373872], bias = Float32[-0.1512536, 0.45844436, 0.44156206, 0.35849753, -0.27964625, 0.2736836, 0.22573897, 0.72534466, 0.5262537, -0.3210298]), layer_10 = (weight = Float32[0.5320294 -0.5023278 … 0.32384193 0.034909364; 0.08435675 -0.42704743 … -0.24827631 -0.066978194; … ; -0.52635807 -0.3121771 … 0.22400327 -0.35979044; 0.37020165 -0.43353796 … -0.46981403 -0.19907443], bias = Float32[0.55903107, -0.6624085, 0.23983483, 0.34102967, -0.625273, 0.71940804, -0.35119823, 0.23519564, 0.042968053, 0.58402777]), layer_11 = (weight = Float32[0.26781568 0.21115232 … 0.21557857 -0.3937377; -0.5058415 0.37927783 … -0.03047103 0.17431085; … ; -0.22168718 0.18922627 … -0.5327771 0.45943058; 0.2659492 -0.29791003 … 0.286442 -0.020319635], bias = Float32[-0.5896921, -0.02058041, -0.41527012, 0.55697274, 0.15655328, 0.080925025, -0.2679033, -0.70665973, 0.084140584, -0.18613404]), layer_12 = (weight = Float32[0.14119068 -0.2565177 … -0.3163989 0.6292754], bias = Float32[-0.3572424]))"
      ]
     },
     "metadata": {},
     "output_type": "display_data"
    }
   ],
   "source": [
    "Weight_NN"
   ]
  },
  {
   "cell_type": "code",
   "execution_count": 9,
   "id": "75de5252",
   "metadata": {},
   "outputs": [],
   "source": [
    "Strategy = FixedStochasticTraining(N_D, N_I) \n",
    "\n",
    "Discretization = PhysicsInformedNN(Lux_NN, Strategy, init_params = Weight_NN)\n",
    "\n",
    "@named PDE_System = PDESystem(PDE, IC, Ω, [x, t], u(x, t))\n",
    "\n",
    "Problem_NeuralPDE = symbolic_discretize(PDE_System, Discretization)\n",
    "\n",
    "Weight_NN = Problem_NeuralPDE.flat_init_params\n",
    "\n",
    "Strategy.sets[1] = xt_D'\n",
    "\n",
    "pde_loss_functions = Problem_NeuralPDE.loss_functions.pde_loss_functions\n",
    "bc_loss_functions = Problem_NeuralPDE.loss_functions.bc_loss_functions\n",
    "Neural_Network(x,t,θ) = Problem_NeuralPDE.phi([x,t],θ)[1];"
   ]
  },
  {
   "cell_type": "code",
   "execution_count": null,
   "id": "b5e15818",
   "metadata": {},
   "outputs": [],
   "source": [
    "function loss_fit(θ, p)\n",
    "    return sum(abs2, Neural_Network(xt_D[i,1],xt_D[i,2],θ) - u_D[i] for i = 1:length(u_D))/length(u_D) \n",
    "end\n",
    "function callback_fit(p, l)\n",
    "\tif p.iter%100 == 0\n",
    "\t\tprintln(\"iteration: \", p.iter)\n",
    "\t\tprintln(\"loss_fit: \", l)\n",
    "\tend\n",
    "\treturn false\n",
    "end\n",
    "\n",
    "OptimizationFunction_fit = OptimizationFunction(loss_fit, AutoZygote())\n",
    "Epoch_fit = 1500\n",
    "OptimizationProblem_fit = OptimizationProblem(OptimizationFunction_fit, Weight_NN) \n",
    "result_fit = solve(OptimizationProblem_fit, ADAM(10^-3); callback = callback_fit, maxiters = Epoch_fit)\n",
    "Weight_NN = result_fit.u;"
   ]
  },
  {
   "cell_type": "code",
   "execution_count": null,
   "id": "3c07635d",
   "metadata": {},
   "outputs": [],
   "source": [
    "Weight_NN"
   ]
  },
  {
   "cell_type": "code",
   "execution_count": null,
   "id": "25c782c6",
   "metadata": {},
   "outputs": [],
   "source": [
    "function loss_fit_PINN(θ, α)\n",
    "\tfit = sum(abs2, Neural_Network(xt_D[i,1],xt_D[i,2],θ) - u_D[i] for i = 1:length(u_D))/length(u_D)\n",
    "\tPINN = sum(map(l -> l(θ), [pde_loss_functions; bc_loss_functions]))\n",
    "    return α*fit + (1-α)*PINN\n",
    "end\n",
    "function callback_fit_PINN(P, l)\n",
    "\tif P.iter%100 == 0\n",
    "\t\tα = OptimizationProblem_fit_PINN.p\n",
    "\t\tprintln(\"α: \", α)\n",
    "\t\tprintln(\"iteration: \", P.iter)\n",
    "\t\tprintln(\"loss_fit_PINN: \", l)\n",
    "\t\tprintln(\"loss_fit: \", α*loss_fit(P.u, nothing))\n",
    "\t\tprintln(\"loss_PDE: \", (1-α)*map(l_ -> l_(P.u), pde_loss_functions)[1])\n",
    "\t\tprintln(\"loss_IC: \", (1-α)*map(l_ -> l_(P.u), bc_loss_functions)[1])\n",
    "\tend\n",
    "\treturn false\n",
    "end\n",
    "\n",
    "OptimizationFunction_fit_PINN = OptimizationFunction(loss_fit_PINN, AutoZygote())\n",
    "α = [0.8, 0.6, 0.4, 0.2]\n",
    "Epoch_fit_PINN = [1750, 1750, 1750, 1750]\n",
    "for i = 1:length(α)\n",
    "    global OptimizationProblem_fit_PINN = OptimizationProblem(OptimizationFunction_fit_PINN, Weight_NN, α[i])\n",
    "    result_fit_PINN = solve(OptimizationProblem_fit_PINN, ADAM(10^-3); callback = callback_fit_PINN, maxiters = Epoch_fit_PINN[i])\n",
    "    Weight_NN = result_fit_PINN.u\n",
    "end"
   ]
  },
  {
   "cell_type": "code",
   "execution_count": null,
   "id": "b4be9b41",
   "metadata": {},
   "outputs": [],
   "source": [
    "Weight_NN"
   ]
  },
  {
   "cell_type": "code",
   "execution_count": null,
   "id": "169d1752",
   "metadata": {},
   "outputs": [],
   "source": [
    "function loss_PINN(θ, p)\n",
    "    return sum(map(l -> l(θ), [pde_loss_functions; bc_loss_functions]))\n",
    "end\n",
    "function callback_PINN(p, l)\n",
    "\tif p.iter%100 == 0\n",
    "\t\tprintln(\"iteration: \", p.iter)\n",
    "\t\tprintln(\"loss_PINN: \", l)\n",
    "\t\tprintln(\"loss_PDE: \", map(l_ -> l_(p.u), pde_loss_functions)[1])\n",
    "\t\tprintln(\"loss_IC: \", map(l_ -> l_(p.u), bc_loss_functions)[1])\n",
    "\tend\n",
    "\treturn false\n",
    "end\n",
    "\n",
    "OptimizationFunction_PINN = OptimizationFunction(loss_PINN, AutoZygote())\n",
    "Epoch_PINN = 1500\n",
    "OptimizationProblem_PINN = OptimizationProblem(OptimizationFunction_PINN, Weight_NN) \n",
    "result_PINN = solve(OptimizationProblem_PINN, ADAM(10^-3); callback = callback_PINN, maxiters = Epoch_PINN)\n",
    "Weight_NN = result_PINN.u;"
   ]
  },
  {
   "cell_type": "code",
   "execution_count": null,
   "id": "6d8c28bb",
   "metadata": {},
   "outputs": [],
   "source": [
    "Weight_NN"
   ]
  },
  {
   "cell_type": "code",
   "execution_count": null,
   "id": "cdda0493",
   "metadata": {},
   "outputs": [],
   "source": [
    "PINN(x,t) = Neural_Network(x,t,Weight_NN);"
   ]
  },
  {
   "cell_type": "code",
   "execution_count": null,
   "id": "5f38e347",
   "metadata": {},
   "outputs": [],
   "source": [
    "Δx = 0.01; x = xmin:Δx:xmax\n",
    "Δt = Δx/1.2; t = tmin:Δt:tmax\n",
    "u_PINN = [PINN(i, j) for j in t, i in x]\n",
    "heatmap(x, t, u_PINN, title=\"PINN\")"
   ]
  }
 ],
 "metadata": {
  "kernelspec": {
   "display_name": "Julia 1.11.4",
   "language": "julia",
   "name": "julia-1.11"
  },
  "language_info": {
   "file_extension": ".jl",
   "mimetype": "application/julia",
   "name": "julia",
   "version": "1.11.4"
  }
 },
 "nbformat": 4,
 "nbformat_minor": 5
}
