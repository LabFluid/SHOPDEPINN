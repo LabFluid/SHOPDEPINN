{
 "cells": [
  {
   "cell_type": "markdown",
   "id": "f09a0a9b",
   "metadata": {},
   "source": [
    "$\\begin{align}\n",
    "\t&u_t + c(x)u_x = 0, \\text{ em } [0,5] \\times [0,6.4], \\\\\n",
    "\t&u(x,0) = f(x), \\\\~\\\\\n",
    "\t&c(x) = 1/5+\\sin(x-1)^2, \\\\\n",
    "\t&f(x) = e^{-100(x-1)^2}\n",
    "\\end{align}$"
   ]
  },
  {
   "cell_type": "code",
   "execution_count": null,
   "id": "7a581552",
   "metadata": {},
   "outputs": [],
   "source": [
    "using Pkg; Pkg.activate(\".\")"
   ]
  },
  {
   "cell_type": "code",
   "execution_count": null,
   "id": "b79c9918",
   "metadata": {},
   "outputs": [],
   "source": [
    "using JLD; D = load(\"Upwind_Dados_grad.jld\")[\"D\"]; xt_D = D[1]; u_D = D[2]\n",
    "length(u_D)"
   ]
  },
  {
   "cell_type": "code",
   "execution_count": null,
   "id": "b728a17e",
   "metadata": {},
   "outputs": [],
   "source": [
    "using NeuralPDE, Lux, Random, Optimization, OptimizationOptimisers, ModelingToolkit, Zygote, Plots, LinearAlgebra\n",
    "import ModelingToolkit: Interval\n",
    "import Optimization: OptimizationFunction, OptimizationProblem, solve\n",
    "Random.seed!(0);"
   ]
  },
  {
   "cell_type": "code",
   "execution_count": null,
   "id": "4ec33506",
   "metadata": {},
   "outputs": [],
   "source": [
    "xmin = 0; xmax = 5; tmin = 0; tmax = 6.4\n",
    "c(x) = 1/5+sin(x-1)^2\n",
    "f(x) = exp(-100(x-1)^2)\n",
    "aux(x,t) = ((t-2.0491*x) <= 1.4279) * ((t-2.0194*x) >= -4.9414)\n",
    "u_exata(x,t) = exp(-100*(atan((1/sqrt(6))*tan(atan(sqrt(6)*tan(x-1))-(sqrt(6)/5)*t)))^2);"
   ]
  },
  {
   "cell_type": "code",
   "execution_count": null,
   "id": "a10bdf97",
   "metadata": {},
   "outputs": [],
   "source": [
    "Neurons = 1\n",
    "Layers = 1\n",
    "\n",
    "N_D = length(u_D)\n",
    "N_I = 10;"
   ]
  },
  {
   "cell_type": "code",
   "execution_count": null,
   "id": "7d3f4a25",
   "metadata": {},
   "outputs": [],
   "source": [
    "@parameters x t\n",
    "@variables u(..)\n",
    "Dt = Differential(t)\n",
    "Dx = Differential(x)\n",
    "\n",
    "PDE = [Dt(u(x,t)) + c(x)*Dx(u(x,t)) ~ 0]\n",
    "IC = [u(x, 0) ~ f(x)]\n",
    "\n",
    "Ω = [x ∈ Interval(xmin, xmax), t ∈ Interval(tmin, tmax)];"
   ]
  },
  {
   "cell_type": "code",
   "execution_count": null,
   "id": "67fff91f",
   "metadata": {},
   "outputs": [],
   "source": [
    "Lux_NN = Chain(    \n",
    "\tDense(2, Neurons, Lux.tanh; \n",
    "\tinit_weight = Lux.glorot_uniform, init_bias = Lux.glorot_uniform),\n",
    "\n",
    "    [Dense(Neurons, Neurons, Lux.tanh; \n",
    "\tinit_weight = Lux.glorot_uniform, init_bias = Lux.glorot_uniform) for i in 1:1:Layers],\n",
    "\n",
    "    Dense(Neurons, 1; \n",
    "\tinit_weight = Lux.glorot_uniform, init_bias = Lux.glorot_uniform))\n",
    "\n",
    "global Weight_NN = Lux.setup(Random.default_rng(0), Lux_NN)[1];"
   ]
  },
  {
   "cell_type": "code",
   "execution_count": null,
   "id": "f2ca39e1",
   "metadata": {},
   "outputs": [],
   "source": [
    "Weight_NN"
   ]
  },
  {
   "cell_type": "code",
   "execution_count": null,
   "id": "75de5252",
   "metadata": {},
   "outputs": [],
   "source": [
    "Strategy = FixedStochasticTraining(N_D, N_I) \n",
    "\n",
    "Discretization = PhysicsInformedNN(Lux_NN, Strategy, init_params = Weight_NN)\n",
    "\n",
    "@named PDE_System = PDESystem(PDE, IC, Ω, [x, t], u(x, t))\n",
    "\n",
    "Problem_NeuralPDE = symbolic_discretize(PDE_System, Discretization)\n",
    "\n",
    "Weight_NN = Problem_NeuralPDE.flat_init_params\n",
    "\n",
    "Strategy.sets[1] = xt_D'\n",
    "\n",
    "pde_loss_functions = Problem_NeuralPDE.loss_functions.pde_loss_functions\n",
    "bc_loss_functions = Problem_NeuralPDE.loss_functions.bc_loss_functions\n",
    "Neural_Network(x,t,θ) = Problem_NeuralPDE.phi([x,t],θ)[1];"
   ]
  },
  {
   "cell_type": "code",
   "execution_count": null,
   "id": "b5e15818",
   "metadata": {},
   "outputs": [],
   "source": [
    "function loss_fit(θ, p)\n",
    "    return sum(abs2, Neural_Network(xt_D[i,1],xt_D[i,2],θ) - u_D[i] for i = 1:length(u_D))/length(u_D) \n",
    "end\n",
    "function callback_fit(p, l)\n",
    "\tif p.iter%100 == 0\n",
    "\t\tprintln(\"iteration: \", p.iter)\n",
    "\t\tprintln(\"loss_fit: \", l)\n",
    "\tend\n",
    "\treturn false\n",
    "end\n",
    "\n",
    "OptimizationFunction_fit = OptimizationFunction(loss_fit, AutoZygote())\n",
    "Epoch_fit = 150\n",
    "OptimizationProblem_fit = OptimizationProblem(OptimizationFunction_fit, Weight_NN) \n",
    "result_fit = solve(OptimizationProblem_fit, ADAM(10^-3); callback = callback_fit, maxiters = Epoch_fit)\n",
    "Weight_NN = result_fit.u;"
   ]
  },
  {
   "cell_type": "code",
   "execution_count": null,
   "id": "3c07635d",
   "metadata": {},
   "outputs": [],
   "source": [
    "Weight_NN"
   ]
  },
  {
   "cell_type": "code",
   "execution_count": null,
   "id": "25c782c6",
   "metadata": {},
   "outputs": [],
   "source": [
    "function loss_fit_PINN(θ, α)\n",
    "\tfit = sum(abs2, Neural_Network(xt_D[i,1],xt_D[i,2],θ) - u_D[i] for i = 1:length(u_D))/length(u_D)\n",
    "\tPINN = sum(map(l -> l(θ), [pde_loss_functions; bc_loss_functions]))\n",
    "    return α*fit + (1-α)*PINN\n",
    "end\n",
    "function callback_fit_PINN(P, l)\n",
    "\tif P.iter%100 == 0\n",
    "\t\tα = OptimizationProblem_fit_PINN.p\n",
    "\t\tprintln(\"α: \", α)\n",
    "\t\tprintln(\"iteration: \", P.iter)\n",
    "\t\tprintln(\"loss_fit_PINN: \", l)\n",
    "\t\tprintln(\"loss_fit: \", α*loss_fit(P.u, nothing))\n",
    "\t\tprintln(\"loss_PDE: \", (1-α)*map(l_ -> l_(P.u), pde_loss_functions)[1])\n",
    "\t\tprintln(\"loss_IC: \", (1-α)*map(l_ -> l_(P.u), bc_loss_functions)[1])\n",
    "\tend\n",
    "\treturn false\n",
    "end\n",
    "\n",
    "OptimizationFunction_fit_PINN = OptimizationFunction(loss_fit_PINN, AutoZygote())\n",
    "α = [0.8, 0.6, 0.4, 0.2]\n",
    "Epoch_fit_PINN = [175, 175, 175, 175]\n",
    "for i = 1:length(α)\n",
    "    global OptimizationProblem_fit_PINN = OptimizationProblem(OptimizationFunction_fit_PINN, Weight_NN, α[i])\n",
    "    result_fit_PINN = solve(OptimizationProblem_fit_PINN, ADAM(10^-3); callback = callback_fit_PINN, maxiters = Epoch_fit_PINN[i])\n",
    "    Weight_NN = result_fit_PINN.u\n",
    "end"
   ]
  },
  {
   "cell_type": "code",
   "execution_count": null,
   "id": "b4be9b41",
   "metadata": {},
   "outputs": [],
   "source": [
    "Weight_NN"
   ]
  },
  {
   "cell_type": "code",
   "execution_count": null,
   "id": "169d1752",
   "metadata": {},
   "outputs": [],
   "source": [
    "function loss_PINN(θ, p)\n",
    "    return sum(map(l -> l(θ), [pde_loss_functions; bc_loss_functions]))\n",
    "end\n",
    "function callback_PINN(p, l)\n",
    "\tif p.iter%100 == 0\n",
    "\t\tprintln(\"iteration: \", p.iter)\n",
    "\t\tprintln(\"loss_PINN: \", l)\n",
    "\t\tprintln(\"loss_PDE: \", map(l_ -> l_(p.u), pde_loss_functions)[1])\n",
    "\t\tprintln(\"loss_IC: \", map(l_ -> l_(p.u), bc_loss_functions)[1])\n",
    "\tend\n",
    "\treturn false\n",
    "end\n",
    "\n",
    "OptimizationFunction_PINN = OptimizationFunction(loss_PINN, AutoZygote())\n",
    "Epoch_PINN = 150\n",
    "OptimizationProblem_PINN = OptimizationProblem(OptimizationFunction_PINN, Weight_NN) \n",
    "result_PINN = solve(OptimizationProblem_PINN, ADAM(10^-3); callback = callback_PINN, maxiters = Epoch_PINN)\n",
    "Weight_NN = result_PINN.u;"
   ]
  },
  {
   "cell_type": "code",
   "execution_count": null,
   "id": "6d8c28bb",
   "metadata": {},
   "outputs": [],
   "source": [
    "Weight_NN"
   ]
  },
  {
   "cell_type": "code",
   "execution_count": null,
   "id": "cdda0493",
   "metadata": {},
   "outputs": [],
   "source": [
    "PINN(x,t) = Neural_Network(x,t,Weight_NN);"
   ]
  },
  {
   "cell_type": "code",
   "execution_count": null,
   "id": "5f38e347",
   "metadata": {},
   "outputs": [],
   "source": [
    "let\n",
    "    Δ = 0.01; x = xmin:Δ:xmax; t = tmin:Δ:tmax\n",
    "    u_PINN = [PINN(i, j) for j in t, i in x]\n",
    "    u_EXATA = [u_exata(i, j)*aux(i, j) for j in t, i in x]\n",
    "    u_erro = abs.(u_PINN - u_EXATA)\n",
    "    h1 = heatmap(x, t, u_PINN, title=\"PINN\")\n",
    "    erro = norm(u_erro) \n",
    "    h2 = heatmap(x, t, u_erro, title=\"Erro\")\n",
    "    plot(h1, h2)\n",
    "    #savefig(\"HeatMap.pdf\")\n",
    "    save(\"Resultado.jld\", \"Weight_NN\", Weight_NN, \"x\", x, \"t\", t, \"u_PINN\", u_PINN)\n",
    "end"
   ]
  },
  {
   "cell_type": "code",
   "execution_count": null,
   "id": "ae1d18d7",
   "metadata": {},
   "outputs": [],
   "source": [
    "let\n",
    "    Δ = 0.01; x = xmin:Δ:xmax\n",
    "    u_PINN = [PINN(i, 0) for i in x]\n",
    "    u_EXATA = [u_exata(i, 0)*aux(i, 0) for i in x]\n",
    "    u_erro = abs.(u_PINN - u_EXATA)\n",
    "    p1 = plot(x,[u_PINN u_EXATA], title=[\"PINN\" \"Exata\"])\n",
    "    erro = norm(u_erro)\n",
    "    p2 = plot(x, u_erro, title=\"Erro\")\n",
    "    plot(p1, p2)\n",
    "    #savefig(\"Plot.pdf\")\n",
    "end"
   ]
  }
 ],
 "metadata": {
  "kernelspec": {
   "display_name": "Julia 1.11.4",
   "language": "julia",
   "name": "julia-1.11"
  },
  "language_info": {
   "file_extension": ".jl",
   "mimetype": "application/julia",
   "name": "julia",
   "version": "1.11.4"
  }
 },
 "nbformat": 4,
 "nbformat_minor": 5
}
